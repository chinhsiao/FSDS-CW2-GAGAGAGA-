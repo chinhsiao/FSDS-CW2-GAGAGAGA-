{
 "cells": [
  {
   "cell_type": "code",
   "execution_count": null,
   "id": "c5fe26cc-e19b-4ea3-bbea-e3ed95571b40",
   "metadata": {},
   "outputs": [],
   "source": [
    "# Reproducible Analysis\n",
    "\n",
    "## CASA0013: Foundations of Spatial Data Science\n",
    "\n",
    "### Student Ids: ucfnlui, ucftYYYY, etc."
   ]
  },
  {
   "cell_type": "code",
   "execution_count": null,
   "id": "8211e35e-c597-4f94-957e-9ab35717b68b",
   "metadata": {},
   "outputs": [],
   "source": [
    "### ucfnlui code:"
   ]
  },
  {
   "cell_type": "code",
   "execution_count": 1,
   "id": "b63aa46b-c148-4a5e-acd8-e4ef3e812069",
   "metadata": {},
   "outputs": [
    {
     "name": "stdout",
     "output_type": "stream",
     "text": [
      "start from here\n"
     ]
    }
   ],
   "source": [
    "print(\"start from here\")"
   ]
  },
  {
   "cell_type": "code",
   "execution_count": null,
   "id": "15053429-7209-4c61-b9d8-34fd7c78e687",
   "metadata": {},
   "outputs": [],
   "source": [
    "### ucfniul code:"
   ]
  },
  {
   "cell_type": "code",
   "execution_count": null,
   "id": "54b326a6-2252-48f6-80e8-5b76ef4480f5",
   "metadata": {},
   "outputs": [],
   "source": [
    "print(\"start from here\")"
   ]
  },
  {
   "cell_type": "code",
   "execution_count": null,
   "id": "8d6a2682-315e-4bdc-899e-eb875f624ac7",
   "metadata": {},
   "outputs": [],
   "source": [
    "### ucfnply code:"
   ]
  },
  {
   "cell_type": "code",
   "execution_count": null,
   "id": "3e7f1f99-dcc3-42c9-9bce-2ab318568782",
   "metadata": {},
   "outputs": [],
   "source": [
    "print(\"start from here\")"
   ]
  },
  {
   "cell_type": "code",
   "execution_count": null,
   "id": "d4c4cbb8-c3b2-4bcc-b622-0f78ad20421d",
   "metadata": {},
   "outputs": [],
   "source": [
    "### ucfnjin code:"
   ]
  },
  {
   "cell_type": "code",
   "execution_count": null,
   "id": "80ecd509-53ac-4481-8040-3be4d326c092",
   "metadata": {},
   "outputs": [],
   "source": [
    "print(\"start from here\")"
   ]
  }
 ],
 "metadata": {
  "kernelspec": {
   "display_name": "Python 3 (ipykernel)",
   "language": "python",
   "name": "python3"
  },
  "language_info": {
   "codemirror_mode": {
    "name": "ipython",
    "version": 3
   },
   "file_extension": ".py",
   "mimetype": "text/x-python",
   "name": "python",
   "nbconvert_exporter": "python",
   "pygments_lexer": "ipython3",
   "version": "3.10.5"
  }
 },
 "nbformat": 4,
 "nbformat_minor": 5
}
